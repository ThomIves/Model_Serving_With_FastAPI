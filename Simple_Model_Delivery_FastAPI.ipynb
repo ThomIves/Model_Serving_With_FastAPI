{
 "cells": [
  {
   "cell_type": "markdown",
   "metadata": {},
   "source": [
    "# Python FastAPI REST APIs - WOW - It's FAST!"
   ]
  },
  {
   "cell_type": "markdown",
   "metadata": {},
   "source": [
    "> by Thom Ives"
   ]
  },
  {
   "cell_type": "markdown",
   "metadata": {},
   "source": [
    "![Integrated Machine Learning & AI](https://dagshub.com/ThomIves/PyTorch_Journey/raw/aefdfaa0c20cdff3c13e8238f1cb93bec72eb461/IMLAI_1700x500_Inv.png)"
   ]
  },
  {
   "cell_type": "markdown",
   "metadata": {},
   "source": [
    "FastAPI works great for Python based REST APIs.\n",
    "It is now greatly helping my work at my company. \n",
    "I hope it will help all of you just as much or more.\n",
    "I think that most of you can leverage from this simple API and take it much further.\n",
    "I also made this, because I wanted to share in detail how to release a basic model serving REST API using FastAPI."
   ]
  },
  {
   "cell_type": "markdown",
   "metadata": {},
   "source": [
    "![FastAPI Logo](fast_api_logo.png)"
   ]
  },
  {
   "cell_type": "markdown",
   "metadata": {},
   "source": [
    "For learning FastAPI, FastAPI has great tutorials. Just go to the main FastAPI Tiangolo pages, and you will find all that you need.\n",
    "I hope that you will check them out.\n",
    "I went through the main one and then through all the tutorials.\n",
    "If you are accustomed to Flask like me, this may take some getting accustomed to.\n",
    "However, once you are a few steps in, you'll be sold by their automatically created documentation pages for the APIs that you write.\n",
    "These documentation pages can also be used to test your APIs.\n",
    "That's right.\n",
    "You don't need to immediately write your own HTTP method call scripts.\n",
    "Nor do you need to use something like Postman.\n",
    "It's all built right in."
   ]
  },
  {
   "cell_type": "markdown",
   "metadata": {},
   "source": [
    "Finally, this tutorial only creates a post method.\n",
    "I have another example that I will post soon that will illustrate using multiple HTTP methods with FastAPI."
   ]
  },
  {
   "cell_type": "markdown",
   "metadata": {},
   "source": [
    "## Prerequisites"
   ]
  },
  {
   "cell_type": "markdown",
   "metadata": {},
   "source": [
    "I recommend that we first create or activate our preferred Python virtual environment.\n",
    "Once you are in there, you will want to do the following `pip` installations.\n",
    "The first one, I trust, is obvious.\n",
    "The second one is the package that will serve your API.\n",
    "Note that it's a different package than the one used by Flask.\n",
    "The third and last is simply the quickest way to obtain all the FastAPI goodies available."
   ]
  },
  {
   "cell_type": "code",
   "execution_count": null,
   "metadata": {},
   "outputs": [],
   "source": [
    "!pip install fastapi"
   ]
  },
  {
   "cell_type": "code",
   "execution_count": null,
   "metadata": {},
   "outputs": [],
   "source": [
    "!pip install \"uvicorn[standard]\""
   ]
  },
  {
   "cell_type": "code",
   "execution_count": null,
   "metadata": {},
   "outputs": [],
   "source": [
    "!pip install \"fastapi[all]\""
   ]
  },
  {
   "cell_type": "markdown",
   "metadata": {},
   "source": [
    "## The REST API Code"
   ]
  },
  {
   "cell_type": "markdown",
   "metadata": {},
   "source": [
    "I'll cover and comment on the simple code base first.\n",
    "I can't say what's best, but I recommend going through the tutorials at FastAPI first at least a little bit.\n",
    "However, if a good portion of this makes sense to you, it would be OK to start with this code.\n",
    "Regardless of when you look at FastAPI's learning materials, __PLEASE__ do look at them.\n",
    "I do not regard this overview of FastAPI as a tutorial worthy of use in isolation. \n",
    "PLEASE study other sources too. \n",
    "However, even IF I had the best FastAPI tutorial around, I'd still encourage you to look at other material to gain a greater understanding of it."
   ]
  },
  {
   "cell_type": "markdown",
   "metadata": {},
   "source": [
    "__NOTE__ that I am still learning FastAPI, and I still have some questions about the best way to handle things.\n",
    "However, I think this code structure is good and safe.\n",
    "This is a basic starting point, but it can serve MANY basic model delivery needs."
   ]
  },
  {
   "cell_type": "markdown",
   "metadata": {},
   "source": [
    "I do at least recommend that you become familiar with decorators through some web searching if they are foreign to you.\n",
    "An example of a decorator below is `@app.post(\"/run_model\")`.\n",
    "I like to think of decorators as a Pythonic elegant way to have Python wrap the functions below the decorator in a standard well defined way.\n",
    "They will seem magic until you study how to create your own.\n",
    "To me, they are one of those elegant Pythonic things like context managers. \n",
    "I very much appreciate them."
   ]
  },
  {
   "cell_type": "markdown",
   "metadata": {},
   "source": [
    "### Imports"
   ]
  },
  {
   "cell_type": "markdown",
   "metadata": {},
   "source": [
    "We will need Pickle to store our model after we train it.\n",
    "Of course we will want to import FastAPI from fastapi.\n",
    "The BaseModel from Pydantic is a great.\n",
    "I won't say much about Pydantic here, but PLEASE study it more. \n",
    "It's a major helpful set of data model classes that help FastAPI work like a charm.\n",
    "I've noticed that FastAPI practitioners love using Pydantic data models.\n",
    "We will need a type of list in the BaseModel that we will create for the data that we pass in."
   ]
  },
  {
   "cell_type": "code",
   "execution_count": 2,
   "metadata": {},
   "outputs": [],
   "source": [
    "import pickle\n",
    "\n",
    "from fastapi import FastAPI\n",
    "from pydantic import BaseModel\n",
    "from typing import List"
   ]
  },
  {
   "cell_type": "markdown",
   "metadata": {},
   "source": [
    "### Necessary Declarations"
   ]
  },
  {
   "cell_type": "markdown",
   "metadata": {},
   "source": [
    "Next, we declare a data class using Pydantic's BaseModel."
   ]
  },
  {
   "cell_type": "code",
   "execution_count": null,
   "metadata": {},
   "outputs": [],
   "source": [
    "class Features(BaseModel):\n",
    "    note: str\n",
    "    data: List[float]"
   ]
  },
  {
   "cell_type": "markdown",
   "metadata": {},
   "source": [
    "Note that we are loading a saved model file.\n",
    "The code to create the model and save it will be shown below soon."
   ]
  },
  {
   "cell_type": "markdown",
   "metadata": {},
   "source": [
    "IF you've done some Python based API work in the past, the `app = FastAPI()` statement should be expected.\n",
    "It is essential if this is completely new to you.\n",
    "We instantiate a class instance of FastAPI named app."
   ]
  },
  {
   "cell_type": "code",
   "execution_count": null,
   "metadata": {},
   "outputs": [],
   "source": [
    "model_file_name = \"Linear_Regression_Model.pkl\"\n",
    "with open(model_file_name, 'rb') as f:\n",
    "    mod_LR = pickle.load(f)\n",
    "\n",
    "app = FastAPI()"
   ]
  },
  {
   "cell_type": "markdown",
   "metadata": {},
   "source": [
    "When building APIs, we normally use the following specific HTTP methods:\n",
    "\n",
    "* POST: to add complete new records to our data.\n",
    "* GET: to read our existing data records.\n",
    "* PUT: to update existing data.\n",
    "* DELETE: to delete a specific record from our data.\n",
    "\n",
    "In OpenAPI, each of the HTTP methods are also called an \"operation\"."
   ]
  },
  {
   "cell_type": "markdown",
   "metadata": {},
   "source": [
    "For this basic model delivery REST API that takes inputs and provides predictions, we will only use the POST operation.\n",
    "I do have a tutorial on how to use all of these basic operations.\n",
    "I will release that soon."
   ]
  },
  {
   "cell_type": "markdown",
   "metadata": {},
   "source": [
    "Our POST method is expecting a features input of type Features defined previously using Pydantic. \n",
    "We'll see shortly how to enter this and make calls for it from both the automatically generated documentation for this API and from python scripts. \n",
    "\n",
    "For now, notice that:\n",
    "1. we pass in a `note` that is a string that is only used for documentation about the prediction,\n",
    "1. we pass in the list of three float values for the features and use them in the call to the prediction algorithm,\n",
    "1. we load the prediction into the return data structure along with the note,\n",
    "\n",
    "Note that for our case, `run_model` is what is know as a route.\n",
    "We don't really need it here, but I am including it, because, later, we might add GET, PUT, and DELETE operations to this overall API too, and the `run_model` route will help to distinguish this operation from the other future ones. "
   ]
  },
  {
   "cell_type": "code",
   "execution_count": null,
   "metadata": {},
   "outputs": [],
   "source": [
    "@app.post(\"/run_model\")\n",
    "async def run_model(features: Features):\n",
    "    print( {\n",
    "            'note': features.note,\n",
    "            'list': features.data\n",
    "        } )\n",
    "    \n",
    "    Y_pred = mod_LR.predict([features.data])\n",
    "    print(Y_pred)\n",
    "\n",
    "    return  {\n",
    "                \"note\": features.note,\n",
    "                \"value\": Y_pred[0, 0]\n",
    "            }\n"
   ]
  },
  {
   "cell_type": "markdown",
   "metadata": {},
   "source": [
    "The entire API code is shown below.\n",
    "I've named this file Run_Model_API.py."
   ]
  },
  {
   "cell_type": "code",
   "execution_count": null,
   "metadata": {},
   "outputs": [],
   "source": [
    "# Run_Model_API.py\n",
    "import pickle\n",
    "\n",
    "from fastapi import FastAPI\n",
    "from pydantic import BaseModel\n",
    "from typing import List\n",
    "\n",
    "\n",
    "class Features(BaseModel):\n",
    "    note: str\n",
    "    data: List[float]\n",
    "    \n",
    "\n",
    "model_file_name = \"Linear_Regression_Model.pkl\"\n",
    "with open(model_file_name, 'rb') as f:\n",
    "    mod_LR = pickle.load(f)\n",
    "\n",
    "app = FastAPI()\n",
    "    \n",
    "\n",
    "@app.post(\"/run_model\")\n",
    "async def run_model(features: Features):\n",
    "    print( {\n",
    "            'note': features.note,\n",
    "            'list': features.data\n",
    "        } )\n",
    "    \n",
    "    Y_pred = mod_LR.predict([features.data])\n",
    "    print(Y_pred)\n",
    "\n",
    "    return  {\n",
    "                \"note\": features.note,\n",
    "                \"value\": Y_pred[0, 0]\n",
    "            }"
   ]
  },
  {
   "cell_type": "markdown",
   "metadata": {},
   "source": [
    "## Training A Model With Fake Data And Saving It And The Test Data"
   ]
  },
  {
   "cell_type": "markdown",
   "metadata": {},
   "source": [
    "Let's look at the code to create the fake data and train the model and save the trained model.\n",
    "Please use the comments in the code to help you understand it.\n",
    "Play with each line to understand this code if you need to."
   ]
  },
  {
   "cell_type": "code",
   "execution_count": null,
   "metadata": {},
   "outputs": [],
   "source": [
    "# Basic_Fake_Data_Model_Train_And_Store.py\n",
    "import numpy as np\n",
    "import pandas as pd\n",
    "import pickle\n",
    "\n",
    "from sklearn.linear_model import LinearRegression\n",
    "\n",
    "# Create the fake feature data\n",
    "X1 = np.random.uniform(0, 1, 1000).reshape(-1, 1)\n",
    "X2 = np.random.uniform(0, 1, 1000).reshape(-1, 1)\n",
    "X3 = np.random.uniform(0, 1, 1000).reshape(-1, 1)\n",
    "\n",
    "# Group the fake data features\n",
    "X = np.hstack((X1, X2, X3))\n",
    "\n",
    "# Use a known model to create the outputs and add noise\n",
    "Y = 1.0 * X1 + 2.0 * X2 + 3.0 * X3\n",
    "Y_peak_noise = np.max(Y) * 0.07\n",
    "Y_noise = np.random.normal(0, 0.07 * Y_peak_noise, 1000).reshape(-1, 1)\n",
    "Y += Y_noise\n",
    "\n",
    "# Create train and test data\n",
    "X_train, X_test, Y_train, Y_test = sklms.train_test_split(\n",
    "    X, Y, test_size=0.2, random_state=42, shuffle=True)\n",
    "print(f\"X train shape is: {X_train.shape}\")\n",
    "print(f\"X test shape is: {X_test.shape}\")\n",
    "print(f\"Y train shape is: {Y_train.shape}\")\n",
    "print(f\"Y test shape is: {Y_test.shape}\")\n",
    "print()\n",
    "\n",
    "\n",
    "# Instantiate the model and train it\n",
    "mod_LR = LinearRegression(fit_intercept=False, copy_X=True)\n",
    "mod_LR.fit(X_train, Y_train)\n",
    "\n",
    "# Check the scoring of the training\n",
    "print(mod_LR.score(X_train, Y_train))\n",
    "# Check that the coefficients values are close to the ones used above\n",
    "print(mod_LR.coef_)\n",
    "\n",
    "# Save the trained model to file\n",
    "model_file_name = \"Linear_Regression_Model.pkl\"\n",
    "with open(model_file_name, 'wb') as f:\n",
    "    pickle.dump(mod_LR, f)\n",
    "\n",
    "# Save the test data to file\n",
    "data_file_name = \"Test_Data.npz\"\n",
    "with open(data_file_name, 'wb') as f:\n",
    "    np.save(f, np.hstack((X_test, Y_test)))\n",
    "\n",
    "# Also save the X_test values to a csv file\n",
    "X_test_df = pd.DataFrame(X_test, columns = ['X1','X2','X3'])\n",
    "X_test_df.to_csv(\"X_Test_Data.csv\")\n"
   ]
  },
  {
   "cell_type": "markdown",
   "metadata": {},
   "source": [
    "## Test The Loading Of The Saved Model And Data And Test The Model"
   ]
  },
  {
   "cell_type": "markdown",
   "metadata": {},
   "source": [
    "The next code loads the saved model and the fake test data and measures the accuracy of the predictions.\n",
    "Again, please read the comments in the code to help you understand the code.\n",
    "Note that this code is testing in a Python script.\n",
    "We will do the same operations with our RestAPI in the Run_Model_API.py script once we have the server run it."
   ]
  },
  {
   "cell_type": "code",
   "execution_count": null,
   "metadata": {},
   "outputs": [],
   "source": [
    "# Basic_Fake_Data_Model_Test_And_Measure.py\n",
    "import numpy as np\n",
    "import sklearn.metrics as sklm\n",
    "import math\n",
    "import pickle\n",
    "\n",
    "\n",
    "# A handy metric function I picked up from a course\n",
    "def print_metrics(y_test, y_pred, n_params):\n",
    "    ## First compute R^2 and the adjusted R^2\n",
    "    ## Print the usual metrics and the R^2 values\n",
    "    MSE = sklm.mean_squared_error(y_test, y_pred)\n",
    "    RMSE = math.sqrt(sklm.mean_squared_error(y_test, y_pred))\n",
    "    MAE = sklm.mean_absolute_error(y_test, y_pred)\n",
    "    MedAE = sklm.median_absolute_error(y_test, y_pred)\n",
    "    r2 = sklm.r2_score(y_test, y_pred)\n",
    "    r2_adj = (r2 - (n_params - 1) /\n",
    "        (y_test.shape[0] - n_params) * (1 - r2))\n",
    "    \n",
    "    print('Mean Square Error      = ' + str(MSE))\n",
    "    print('Root Mean Square Error = ' + str(RMSE))\n",
    "    print('Mean Absolute Error    = ' + str(MAE))\n",
    "    print('Median Absolute Error  = ' + str(MedAE))\n",
    "    print('R^2                    = ' + str(r2))\n",
    "    print('Adjusted R^2           = ' + str(r2_adj))\n",
    "\n",
    "\n",
    "# Load the model from the file\n",
    "model_file_name = \"Linear_Regression_Model.pkl\"\n",
    "with open(model_file_name, 'rb') as f:\n",
    "    mod_LR = pickle.load(f)\n",
    "\n",
    "# Load the test data\n",
    "data_file_name = \"Test_Data.npz\"\n",
    "with open(data_file_name, 'rb') as f:\n",
    "    feature_label_data = np.load(f)\n",
    "\n",
    "Break the test data into features and labels (inputs and outputs)\n",
    "X_test = feature_label_data[:, :-1]\n",
    "Y_test = feature_label_data[:, -1]\n",
    "\n",
    "# Perform predictions and measure the model's performance\n",
    "Y_pred = mod_LR.predict(X_test)\n",
    "print_metrics(Y_test, Y_pred, 4)"
   ]
  },
  {
   "cell_type": "markdown",
   "metadata": {},
   "source": [
    "## The Python Script That Will Call Our REST API"
   ]
  },
  {
   "cell_type": "markdown",
   "metadata": {},
   "source": [
    "Now pretend we've launched our REST API using a server.\n",
    "We can now get values calling it from any routine that can reach that REST API's URL.\n",
    "We are running that API using the latest trained model as shown above.\n",
    "Now we will pretend to send new feature values (our X_test data) to our REST API through a Python Script.\n",
    "Basically, we pretend that this script is being used by one of our intended end users that we wrote this for.\n",
    "Again, please rely on the code comments to understand what is being done."
   ]
  },
  {
   "cell_type": "code",
   "execution_count": null,
   "metadata": {},
   "outputs": [],
   "source": [
    "# Call_Model_Run_API.py\n",
    "import requests\n",
    "import pandas as pd\n",
    "import numpy as np\n",
    "import json\n",
    "import sklearn.metrics as sklm\n",
    "import math\n",
    "\n",
    "\n",
    "# The same print metrics function\n",
    "def print_metrics(y_test, y_pred, n_params):\n",
    "    ## First compute R^2 and the adjusted R^2\n",
    "    ## Print the usual metrics and the R^2 values\n",
    "    MSE = sklm.mean_squared_error(y_test, y_pred)\n",
    "    RMSE = math.sqrt(sklm.mean_squared_error(y_test, y_pred))\n",
    "    MAE = sklm.mean_absolute_error(y_test, y_pred)\n",
    "    MedAE = sklm.median_absolute_error(y_test, y_pred)\n",
    "    r2 = sklm.r2_score(y_test, y_pred)\n",
    "    r2_adj = (r2 - (n_params - 1) /\n",
    "        (y_test.shape[0] - n_params) * (1 - r2))\n",
    "    \n",
    "    print('Mean Square Error      = ' + str(MSE))\n",
    "    print('Root Mean Square Error = ' + str(RMSE))\n",
    "    print('Mean Absolute Error    = ' + str(MAE))\n",
    "    print('Median Absolute Error  = ' + str(MedAE))\n",
    "    print('R^2                    = ' + str(r2))\n",
    "    print('Adjusted R^2           = ' + str(r2_adj))\n",
    "\n",
    "\n",
    "# Loading X_test values from the CSV\n",
    "# We pretend that these are new features\n",
    "X_test = pd.read_csv(\"X_Test_Data.csv\")\n",
    "X_test = X_test.values\n",
    "\n",
    "# Load full test data to get Y_test for metrics\n",
    "data_file_name = \"Test_Data.npz\"\n",
    "with open(data_file_name, 'rb') as f:\n",
    "    feature_label_data = np.load(f)\n",
    "\n",
    "Y_test = feature_label_data[:, -1]\n",
    "\n",
    "# Create an empty array to hold predictions from REST API\n",
    "Y_pred_from_api = []\n",
    "\n",
    "# For each row of the X_test values\n",
    "for curr_features in X_test:\n",
    "    note = curr_features[0]\n",
    "    data = curr_features[1:].tolist() # Pydantic NO LIKE numpy arrays\n",
    "    \n",
    "    # Form the correct data input structure\n",
    "    features = {\n",
    "        \"note\": str(note),\n",
    "        \"data\": data\n",
    "    }\n",
    "    \n",
    "    # Use requests.post with API_URL and features in json format\n",
    "    # to do a post operation and have the REST API run a prediction\n",
    "    API_URL = \"http://127.0.0.1:8000/run_model\"\n",
    "    response = requests.post(API_URL, json=features)\n",
    "    \n",
    "    # Use json.loads to convert the json string to a dictionary\n",
    "    output = json.loads(response.text)[\"value\"]\n",
    "    # Add the prediction to our Y_pred_from_api array\n",
    "    Y_pred_from_api.append(output)\n",
    "\n",
    "# Convert our Y_pred_from_api array to a numpy array\n",
    "Y_pred = np.array(Y_pred_from_api)\n",
    "# Check the metrics\n",
    "print_metrics(Y_test, Y_pred, 4)"
   ]
  },
  {
   "cell_type": "markdown",
   "metadata": {},
   "source": [
    "## Implementation"
   ]
  },
  {
   "cell_type": "markdown",
   "metadata": {},
   "source": [
    "Well, that looks all wonderful in theory, but does this work?\n",
    "First, we have to start this script and make sure it launches on our local server using uvicorn.\n",
    "Then, we need to test each method.\n",
    "Let's test each method two different ways.\n",
    "Using the automatically generated documentation for this API, and using requests from our fake user's Python script."
   ]
  },
  {
   "cell_type": "markdown",
   "metadata": {},
   "source": [
    "What does it look like when we start our API from the command line.\n",
    "AND how do we do that?\n",
    "Well, let me show you!\n",
    "We start our API from a command line terminal using the following line.\n",
    "__NOTE__ that whatever the python script name of your API is, that's what you'd put in for Run_Model_API minus the .py part."
   ]
  },
  {
   "cell_type": "markdown",
   "metadata": {},
   "source": [
    "### Launching The Uvicorn Server"
   ]
  },
  {
   "cell_type": "markdown",
   "metadata": {},
   "source": [
    "I personally prefer to put the line below in a file named `run`, make that file executable, and then run that file from a terminal.\n",
    "Windows users may need to run a batch file or powershell script."
   ]
  },
  {
   "cell_type": "markdown",
   "metadata": {},
   "source": [
    "`uvicorn Run_Model_API:app --reload`"
   ]
  },
  {
   "cell_type": "markdown",
   "metadata": {},
   "source": [
    "If successful, your uvicorn server launch will look like the following:"
   ]
  },
  {
   "cell_type": "markdown",
   "metadata": {},
   "source": [
    "```shell\n",
    "(py38std) thom@thom-PT5610:~/DagsHub_Repos/API_Dev_Work/API_Dev_Work_Public/Basic_Model_Serving_API$ ./run\n",
    "INFO:     Will watch for changes in these directories: ['/home/thom/DagsHub_Repos/API_Dev_Work/API_Dev_Work_Public/Basic_Model_Serving_API']\n",
    "INFO:     Uvicorn running on http://127.0.0.1:8000 (Press CTRL+C to quit)\n",
    "INFO:     Started reloader process [3238637] using watchgod\n",
    "INFO:     Started server process [3238639]\n",
    "INFO:     Waiting for application startup.\n",
    "INFO:     Application startup complete.\n",
    "```"
   ]
  },
  {
   "cell_type": "markdown",
   "metadata": {},
   "source": [
    "If you are running, great!\n",
    "If not, go back through this document carefully, OR step through the FastAPI tutorials until you can find your issue.\n",
    "Many people forget to make sure their terminal is looking at the same directory that their API script is in.\n",
    "You may also have a typo in your \n",
    "\n",
    "`uvicorn <api-script-name-WITHOUT-.py>:app --reload`\n",
    "\n",
    "I hope it runs for you, because once it does, the rest of this will likely go pretty smoothly for you."
   ]
  },
  {
   "cell_type": "markdown",
   "metadata": {},
   "source": [
    "Next, let's open the amazingly good automatically generated document page for our API using the below line.\n",
    "If you ever used PostMan for testing APIs, this is much the same, but specific to FastAPI and makes FastAPI easy to test and debug!"
   ]
  },
  {
   "cell_type": "markdown",
   "metadata": {},
   "source": [
    "`http://127.0.0.1:8000/docs`"
   ]
  },
  {
   "cell_type": "markdown",
   "metadata": {},
   "source": [
    "![The Automatically Generated API Document Page](FastAPI_Docs_1.png)"
   ]
  },
  {
   "cell_type": "markdown",
   "metadata": {},
   "source": [
    "Expand the POST block and click on \"Try it out\" at the upper right of that expanded block.\n",
    "\"Try it out\" will switch to \"Cancel\" in case you decide you do NOT want to try it out right now.\n",
    "You will see a \"Request body\".\n",
    "Edit the dictionary in that \"Request body\" as shown in the next image."
   ]
  },
  {
   "cell_type": "markdown",
   "metadata": {},
   "source": [
    "![Edited Request Body Dictionary For First Client Entry](FastAPI_Docs_2.png)"
   ]
  },
  {
   "cell_type": "markdown",
   "metadata": {},
   "source": [
    "Now, we click on wide blue **Execute** button.\n",
    "We want to then check on two things.\n",
    "First, in this expanded POST block, scroll down a bit, and you will see the response that you formulated in your return statement if all went well.\n",
    "I have shown mine below."
   ]
  },
  {
   "cell_type": "markdown",
   "metadata": {},
   "source": [
    "![Correct Data Entry Response From The API's Server](FastAPI_Docs_3.png)"
   ]
  },
  {
   "cell_type": "markdown",
   "metadata": {},
   "source": [
    "## Simulating Our Fake End User Using Our REST API"
   ]
  },
  {
   "cell_type": "markdown",
   "metadata": {},
   "source": [
    "Well that's all great, but let's simulate a real life use case.\n",
    "Now we run the file above that we named Call_Model_Run_API.py.\n",
    "I will repeat this code below with the comments stripped.\n",
    "Again, the code below calls the REST API, that takes features inputs and provides prediction outputs, one record at a time."
   ]
  },
  {
   "cell_type": "code",
   "execution_count": null,
   "metadata": {},
   "outputs": [],
   "source": [
    "import requests\n",
    "import pandas as pd\n",
    "import numpy as np\n",
    "import json\n",
    "import sklearn.metrics as sklm\n",
    "import math\n",
    "\n",
    "\n",
    "def print_metrics(y_test, y_pred, n_params):\n",
    "    pass # see full code for this function above.\n",
    "\n",
    "X_test = pd.read_csv(\"X_Test_Data.csv\")\n",
    "X_test = X_test.values\n",
    "\n",
    "data_file_name = \"Test_Data.npz\"\n",
    "with open(data_file_name, 'rb') as f:\n",
    "    feature_label_data = np.load(f)\n",
    "\n",
    "Y_test = feature_label_data[:, -1]\n",
    "\n",
    "Y_pred_from_api = []\n",
    "\n",
    "for curr_features in X_test:\n",
    "    note = curr_features[0]\n",
    "    data = curr_features[1:].tolist()\n",
    "    \n",
    "    features = {\n",
    "        \"note\": str(note),\n",
    "        \"data\": data\n",
    "    }\n",
    "    \n",
    "    API_URL = \"http://127.0.0.1:8000/run_model\"\n",
    "    response = requests.post(API_URL, json=features)\n",
    "    \n",
    "    output = json.loads(response.text)[\"value\"]\n",
    "    Y_pred_from_api.append(output)\n",
    "\n",
    "Y_pred = np.array(Y_pred_from_api)\n",
    "print_metrics(Y_test, Y_pred, 4)\n"
   ]
  },
  {
   "cell_type": "markdown",
   "metadata": {},
   "source": [
    "The results from the above code are ..."
   ]
  },
  {
   "cell_type": "markdown",
   "metadata": {},
   "source": [
    "```shell\n",
    "(py38std) thom@thom-PT5610:~/DagsHub_Repos/API_Dev_Work/API_Dev_Work_Public/Basic_Model_Serving_API$ /home/thom/.virtualenvs/py38std/bin/python /home/thom/DagsHub_Repos/API_Dev_Work/API_Dev_Work_Public/Basic_Model_Serving_API/Call_Model_Run_API.py\n",
    "Mean Square Error      = 0.0008951082926707904\n",
    "Root Mean Square Error = 0.029918360460940877\n",
    "Mean Absolute Error    = 0.023989555548717817\n",
    "Median Absolute Error  = 0.020721802574338644\n",
    "R^2                    = 0.9991017552979535\n",
    "Adjusted R^2           = 0.9990880066545549\n",
    "```"
   ]
  },
  {
   "cell_type": "markdown",
   "metadata": {},
   "source": [
    "And these results are the same as the results we obtained when running Basic_Fake_Data_Model_Test_And_Measure.py."
   ]
  },
  {
   "cell_type": "markdown",
   "metadata": {},
   "source": [
    "## Summary"
   ]
  },
  {
   "cell_type": "markdown",
   "metadata": {},
   "source": [
    "We used Python FastAPI to create a REST API to provide model predictions using a trained model.\n",
    "Dang that was fun!\n",
    "We discovered some great new power and methods using FastAPI.\n",
    "I am eager to show you more examples with FastAPI ASAP!\n",
    "\n",
    "Until next time."
   ]
  }
 ],
 "metadata": {
  "kernelspec": {
   "display_name": "Python 3.8.10 ('py38std')",
   "language": "python",
   "name": "python3"
  },
  "language_info": {
   "codemirror_mode": {
    "name": "ipython",
    "version": 3
   },
   "file_extension": ".py",
   "mimetype": "text/x-python",
   "name": "python",
   "nbconvert_exporter": "python",
   "pygments_lexer": "ipython3",
   "version": "3.8.10"
  },
  "orig_nbformat": 4,
  "vscode": {
   "interpreter": {
    "hash": "e37e04c7be8db6b4ec1741ee58c9ee0ea3179ad51f0533caa0cc689e605caaef"
   }
  }
 },
 "nbformat": 4,
 "nbformat_minor": 2
}
